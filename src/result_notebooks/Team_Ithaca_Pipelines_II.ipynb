{
 "cells": [
  {
   "cell_type": "markdown",
   "metadata": {},
   "source": [
    "### 0. Imports necesarios"
   ]
  },
  {
   "cell_type": "code",
   "execution_count": 7,
   "metadata": {},
   "outputs": [],
   "source": [
    "import pandas as pd\n",
    "import matplotlib.pyplot as plt\n",
    "import numpy as np\n",
    "import seaborn as sns\n",
    "\n",
    "from sklearn.pipeline import Pipeline\n",
    "from sklearn.preprocessing import FunctionTransformer, OneHotEncoder, StandardScaler, LabelEncoder\n",
    "from sklearn.compose import ColumnTransformer\n",
    "from sklearn.impute import SimpleImputer\n",
    "from sklearn.ensemble import RandomForestClassifier, GradientBoostingClassifier\n",
    "from sklearn.linear_model import LogisticRegression\n",
    "from sklearn.model_selection import  train_test_split, GridSearchCV\n",
    "from sklearn.metrics import balanced_accuracy_score, accuracy_score, confusion_matrix, ConfusionMatrixDisplay, roc_curve, auc, classification_report\n",
    "from sklearn.base import BaseEstimator, TransformerMixin\n",
    "\n",
    "import lightgbm as lgb\n",
    "import os\n",
    "import dill\n",
    "import warnings\n"
   ]
  },
  {
   "cell_type": "markdown",
   "metadata": {},
   "source": [
    "### 1. Carga de datos de Test e identificación de columnas"
   ]
  },
  {
   "cell_type": "code",
   "execution_count": 8,
   "metadata": {},
   "outputs": [],
   "source": [
    "df_test = pd.read_csv('../data/test.csv', index_col=0)\n",
    "\n",
    "# Ponemos 'id' como índice\n",
    "df_test = df_test.set_index('id')"
   ]
  },
  {
   "cell_type": "markdown",
   "metadata": {},
   "source": [
    "### 2. Comprobamos que el .pkl trae todo lo que necesitamos"
   ]
  },
  {
   "cell_type": "code",
   "execution_count": 9,
   "metadata": {},
   "outputs": [
    {
     "name": "stdout",
     "output_type": "stream",
     "text": [
      "Pipeline(steps=[('null_handling',\n",
      "                 Pipeline(steps=[('drop_high_nulls', DropHighNullColumns()),\n",
      "                                 ('drop_remaining_nulls', DropRemainingNulls()),\n",
      "                                 ('drop_duplicates', DropDuplicates())])),\n",
      "                ('column_identification', IdentifyColumns()),\n",
      "                ('log_transform',\n",
      "                 FunctionTransformer(func=<function safe_log_transform at 0x0000012371B86A20>)),\n",
      "                ('preprocessor',\n",
      "                 Pipeline(steps=[('pr...\n",
      "                                                                    'boarding',\n",
      "                                                                    'Seat '\n",
      "                                                                    'comfort',\n",
      "                                                                    'Inflight '\n",
      "                                                                    'entertainment',\n",
      "                                                                    'On-board '\n",
      "                                                                    'service',\n",
      "                                                                    'Leg room '\n",
      "                                                                    'service',\n",
      "                                                                    'Baggage '\n",
      "                                                                    'handling',\n",
      "                                                                    'Checkin '\n",
      "                                                                    'service',\n",
      "                                                                    'Inflight '\n",
      "                                                                    'service',\n",
      "                                                                    'Cleanliness']),\n",
      "                                                                  ('scaler',\n",
      "                                                                   StandardScaler(),\n",
      "                                                                   ['Age',\n",
      "                                                                    'Flight '\n",
      "                                                                    'Distance',\n",
      "                                                                    'Departure '\n",
      "                                                                    'Delay in '\n",
      "                                                                    'Minutes',\n",
      "                                                                    'Arrival '\n",
      "                                                                    'Delay in '\n",
      "                                                                    'Minutes'])]))])),\n",
      "                ('model',\n",
      "                 Pipeline(steps=[('model', LGBMClassifier(num_leaves=50))]))])\n"
     ]
    }
   ],
   "source": [
    "BASE_PATH = os.path.abspath(os.path.join(os.getcwd(), \"..\"))\n",
    "MODEL_DIR = os.path.join(BASE_PATH, \"models\")\n",
    "model_path = os.path.join(MODEL_DIR, \"best_pipeline.pkl\")\n",
    "\n",
    "with open(model_path, \"rb\") as f:\n",
    "    best_pipeline = dill.load(f)\n",
    "\n",
    "print(best_pipeline)"
   ]
  },
  {
   "cell_type": "markdown",
   "metadata": {},
   "source": [
    "### 3. Aplicamos los pipelines"
   ]
  },
  {
   "cell_type": "code",
   "execution_count": 10,
   "metadata": {},
   "outputs": [
    {
     "name": "stdout",
     "output_type": "stream",
     "text": [
      "¡Los pipelines se han aplicado correctamente!\n"
     ]
    }
   ],
   "source": [
    "# Filtrar FutureWarnings\n",
    "warnings.filterwarnings(\"ignore\", category=FutureWarning)\n",
    "\n",
    "# Se asume que 'df_test' ya está cargado y tiene 'id' como índice.\n",
    "y_test = df_test[\"satisfaction\"].replace({\"neutral or dissatisfied\": 0, \"satisfied\": 1}).infer_objects(copy=False)\n",
    "X_test = df_test.drop(columns=[\"satisfaction\"])\n",
    "\n",
    "# Añadir la columna dummy 'satisfaction' para que el pipeline procese los datos igual que en entrenamiento\n",
    "X_test_pipeline = X_test.copy()\n",
    "X_test_pipeline[\"satisfaction\"] = \"neutral or dissatisfied\"\n",
    "\n",
    "# Recuperar la variable 'numerical_cols_log' desde el transformer 'column_identification'\n",
    "numerical_cols_log = best_pipeline.named_steps[\"column_identification\"].numerical_cols_log\n",
    "\n",
    "# Obtener los índices de las filas que sobreviven la limpieza (nulos y duplicados)\n",
    "X_test_clean = best_pipeline.named_steps[\"null_handling\"].transform(X_test_pipeline)\n",
    "idx_clean = X_test_clean.index\n",
    "\n",
    "# Transformar hasta el preprocesador y remover la columna del target (posición 0)\n",
    "X_test_transformed = best_pipeline[:-1].transform(X_test_pipeline)\n",
    "X_test_final = X_test_transformed[:, 1:]\n",
    "\n",
    "# Realizar las predicciones con el modelo entrenado\n",
    "y_pred = best_pipeline.named_steps[\"model\"].predict(X_test_final)\n",
    "\n",
    "# Alinear y_test con los índices de las filas procesadas\n",
    "y_test_aligned = y_test.loc[idx_clean]\n",
    "\n",
    "print(f'¡Los pipelines se han aplicado correctamente!')"
   ]
  },
  {
   "cell_type": "markdown",
   "metadata": {},
   "source": [
    "#### 4. Métricas de evaluación"
   ]
  },
  {
   "cell_type": "code",
   "execution_count": 14,
   "metadata": {},
   "outputs": [
    {
     "name": "stdout",
     "output_type": "stream",
     "text": [
      "Balanced Accuracy: 0.9482\n",
      "\n",
      "Classification Report:\n",
      "              precision    recall  f1-score   support\n",
      "\n",
      "           0       0.94      0.97      0.96     14528\n",
      "           1       0.96      0.93      0.94     11365\n",
      "\n",
      "    accuracy                           0.95     25893\n",
      "   macro avg       0.95      0.95      0.95     25893\n",
      "weighted avg       0.95      0.95      0.95     25893\n",
      "\n"
     ]
    },
    {
     "data": {
      "image/png": "[encoded data removed]",
      "text/plain": [
       "<Figure size 640x480 with 2 Axes>"
      ]
     },
     "metadata": {},
     "output_type": "display_data"
    }
   ],
   "source": [
    "import matplotlib.pyplot as plt\n",
    "from sklearn.metrics import balanced_accuracy_score, classification_report, confusion_matrix, ConfusionMatrixDisplay\n",
    "\n",
    "# Calcular Balanced Accuracy\n",
    "acc = balanced_accuracy_score(y_test_aligned, y_pred)\n",
    "\n",
    "# Mostrar métricas de evaluación\n",
    "print(f\"Balanced Accuracy: {acc:.4f}\\n\")\n",
    "print(\"Classification Report:\")\n",
    "print(classification_report(y_test_aligned, y_pred))\n",
    "\n",
    "# Calcular y pintar la matriz de confusión\n",
    "cm = confusion_matrix(y_test_aligned, y_pred)\n",
    "disp = ConfusionMatrixDisplay(confusion_matrix=cm, display_labels=[\"neutral or dissatisfied\", \"satisfied\"])\n",
    "disp.plot(cmap=\"Blues\")\n",
    "plt.title(\"Confusion Matrix\")\n",
    "plt.show()\n",
    "\n"
   ]
  },
  {
   "cell_type": "code",
   "execution_count": null,
   "metadata": {},
   "outputs": [],
   "source": [
    "# Importancia de características (solo para modelos de árboles)\n",
    "\n",
    "    # Crear un DataFrame ordenado por importancia\n",
    "    feature_importance_df = pd.DataFrame({\"Feature\": feature_names, \"Importance\": importances})\n",
    "    feature_importance_df = feature_importance_df.sort_values(by=\"Importance\", ascending=False).head(20)  # Mostrar solo las 20 más importantes\n",
    "\n",
    "    # Graficar la importancia de características\n",
    "    plt.figure(figsize=(12, 8))\n",
    "    sns.barplot(x=feature_importance_df[\"Importance\"], y=feature_importance_df[\"Feature\"], palette=\"Blues_r\")\n",
    "\n",
    "    # Etiquetas y título\n",
    "    plt.title(f\"Importancia de Características - {best_model_name}\", fontsize=14)\n",
    "    plt.xlabel(\"Importancia\", fontsize=12)\n",
    "    plt.ylabel(\"Características\", fontsize=12)\n",
    "\n",
    "    # Ajustar etiquetas para mejor legibilidad\n",
    "    plt.xticks(fontsize=10)\n",
    "    plt.yticks(fontsize=10)\n",
    "\n",
    "    # Mostrar valores sobre las barras\n",
    "    for index, value in enumerate(feature_importance_df[\"Importance\"]):\n",
    "        plt.text(value + 2, index, f\"{value:.2f}\", fontsize=10, verticalalignment=\"center\")\n",
    "\n",
    "    plt.show()"
   ]
  },
  {
   "cell_type": "code",
   "execution_count": null,
   "metadata": {},
   "outputs": [],
   "source": []
  }
 ],
 "metadata": {
  "kernelspec": {
   "display_name": "Python 3",
   "language": "python",
   "name": "python3"
  },
  "language_info": {
   "codemirror_mode": {
    "name": "ipython",
    "version": 3
   },
   "file_extension": ".py",
   "mimetype": "text/x-python",
   "name": "python",
   "nbconvert_exporter": "python",
   "pygments_lexer": "ipython3",
   "version": "3.11.9"
  }
 },
 "nbformat": 4,
 "nbformat_minor": 2
}
